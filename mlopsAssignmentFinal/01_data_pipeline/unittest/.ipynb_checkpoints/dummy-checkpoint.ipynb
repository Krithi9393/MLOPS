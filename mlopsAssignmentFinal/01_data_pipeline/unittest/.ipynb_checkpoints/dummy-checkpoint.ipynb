{
 "cells": [
  {
   "cell_type": "code",
   "execution_count": 1,
   "id": "bd3e22bc-5504-45ea-9e64-e39ff1fb1782",
   "metadata": {},
   "outputs": [],
   "source": [
    "#!pip install --upgrade pandas ydata-profiling"
   ]
  },
  {
   "cell_type": "code",
   "execution_count": 2,
   "id": "09488f8c-f10a-4adb-bea0-d32e3aa1464c",
   "metadata": {},
   "outputs": [],
   "source": [
    "import warnings\n",
    "warnings.filterwarnings(\"ignore\")\n"
   ]
  },
  {
   "cell_type": "code",
   "execution_count": 3,
   "id": "5d799060-e0ef-4ea8-a16d-35a6ec1d83f9",
   "metadata": {},
   "outputs": [],
   "source": [
    "import numpy as np\n",
    "import os\n",
    "import sys\n",
    "import pandas as pd\n",
    "from pandas_profiling import ProfileReport\n",
    "import utils\n",
    "\n",
    "# Manually specify the path where \"unittest/constants.py\" is located\n",
    "unittest_path = os.path.abspath(\"../Assignment/01_data_pipeline/unittest\")\n",
    "\n",
    "# Add the unittest folder to Python’s search path\n",
    "sys.path.append(unittest_path)\n",
    "\n",
    "# Now import the constants module\n",
    "from constants import *"
   ]
  },
  {
   "cell_type": "code",
   "execution_count": 4,
   "id": "1d9daace-b960-4d50-8a4c-bc2ecaed1185",
   "metadata": {},
   "outputs": [],
   "source": [
    "#print(\"Current Working Directory:\", os.getcwd())"
   ]
  },
  {
   "cell_type": "code",
   "execution_count": 5,
   "id": "3af65b50-e3b0-4d6a-980f-dbdfd7f4c610",
   "metadata": {},
   "outputs": [
    {
     "name": "stdout",
     "output_type": "stream",
     "text": [
      "/home/mlopsAssignment/01_data_pipeline/unittest/database/utils_output.db\n"
     ]
    }
   ],
   "source": [
    "print(DB_PATH+DB_FILE_NAME)"
   ]
  },
  {
   "cell_type": "code",
   "execution_count": 6,
   "id": "f8fa645b-c246-4a5c-a8c1-14763905fa06",
   "metadata": {},
   "outputs": [
    {
     "name": "stdout",
     "output_type": "stream",
     "text": [
      "Does the directory exist? False\n",
      "Is it a directory? False\n"
     ]
    }
   ],
   "source": [
    "import os\n",
    "db_path = \"/home/Assignment/01_data_pipeline/scripts/database/\"\n",
    "print(\"Does the directory exist?\", os.path.exists(db_path))\n",
    "print(\"Is it a directory?\", os.path.isdir(db_path))"
   ]
  },
  {
   "cell_type": "code",
   "execution_count": 7,
   "id": "225db4f4-08ad-4ed0-8a53-cc7ca36d90cb",
   "metadata": {},
   "outputs": [
    {
     "name": "stdout",
     "output_type": "stream",
     "text": [
      "Creating Database\n",
      "New DB Created\n"
     ]
    },
    {
     "data": {
      "text/plain": [
       "'DB Created'"
      ]
     },
     "execution_count": 7,
     "metadata": {},
     "output_type": "execute_result"
    }
   ],
   "source": [
    "utils.build_dbs()"
   ]
  },
  {
   "cell_type": "code",
   "execution_count": 8,
   "id": "b9892b6b-1add-4d71-8b71-9de0948c3f19",
   "metadata": {},
   "outputs": [],
   "source": [
    "utils.load_data_into_db()"
   ]
  },
  {
   "cell_type": "code",
   "execution_count": 9,
   "id": "e2dc3af0-d8f0-4387-907c-f05f758a967a",
   "metadata": {},
   "outputs": [],
   "source": [
    "utils.map_city_tier()"
   ]
  },
  {
   "cell_type": "code",
   "execution_count": 10,
   "id": "e0d0548c-3709-4d26-8476-622cb033b3b2",
   "metadata": {},
   "outputs": [],
   "source": [
    "utils.map_categorical_vars()"
   ]
  },
  {
   "cell_type": "code",
   "execution_count": 11,
   "id": "7e5aa9ce-b27a-4952-a8c8-78e8c5d5fb44",
   "metadata": {},
   "outputs": [],
   "source": [
    "utils.interactions_mapping()"
   ]
  },
  {
   "cell_type": "code",
   "execution_count": 12,
   "id": "964ff08c-53f5-4a77-8820-32c76a81ab6b",
   "metadata": {},
   "outputs": [
    {
     "name": "stdout",
     "output_type": "stream",
     "text": [
      "          created_date  city_tier first_platform_c first_utm_medium_c  \\\n",
      "0  2021-07-01 07:32:25        1.0           Level3             others   \n",
      "1  2021-07-05 04:26:31        1.0           Level2             Level6   \n",
      "2  2021-07-08 11:28:20        1.0           Level7             Level3   \n",
      "3  2021-07-11 05:39:39        3.0           Level3             Level0   \n",
      "4  2021-07-12 16:56:30        1.0           Level3             Level0   \n",
      "\n",
      "  first_utm_source_c  total_leads_droppped  referred_lead  app_complete_flag  \\\n",
      "0            Level16                   2.0            0.0                  1   \n",
      "1             Level7                   2.0            0.0                  0   \n",
      "2             Level6                   1.0            0.0                  1   \n",
      "3             Level0                   4.0            0.0                  1   \n",
      "4             Level0                   6.0            0.0                  1   \n",
      "\n",
      "   assistance_interaction  career_interaction  payment_interaction  \\\n",
      "0                       0                   0                    0   \n",
      "1                       0                   0                    0   \n",
      "2                       0                   0                    0   \n",
      "3                       0                   0                    0   \n",
      "4                       0                   0                    0   \n",
      "\n",
      "   social_interaction  syllabus_interaction  \n",
      "0                   0                     0  \n",
      "1                   0                     0  \n",
      "2                   0                     0  \n",
      "3                   0                     0  \n",
      "4                   0                     0  \n"
     ]
    }
   ],
   "source": [
    "import pandas as pd\n",
    "import sqlite3\n",
    "\n",
    "connection = sqlite3.connect(DB_PATH + DB_FILE_NAME)\n",
    "\n",
    "df = pd.read_sql_query(\"SELECT * FROM model_input LIMIT 5;\", connection)\n",
    "print(df)\n",
    "\n",
    "connection.close()"
   ]
  },
  {
   "cell_type": "code",
   "execution_count": 13,
   "id": "7902b2bf-5921-48a0-bd52-bb08ccbb19de",
   "metadata": {},
   "outputs": [],
   "source": [
    "try:\n",
    "    utils.load_data_into_db()\n",
    "except FileNotFoundError as e:\n",
    "    print(\"❌ Missing File:\", e.filename)\n"
   ]
  },
  {
   "cell_type": "code",
   "execution_count": 14,
   "id": "b8a86502-835f-4b48-8a4a-539344f008ce",
   "metadata": {},
   "outputs": [
    {
     "name": "stdout",
     "output_type": "stream",
     "text": [
      "/home/mlopsAssignment/01_data_pipeline/unittest/database/\n",
      "📊 Table Shape in Database: (100, 45)\n"
     ]
    }
   ],
   "source": [
    "import sqlite3\n",
    "conn = sqlite3.connect(DB_PATH + DB_FILE_NAME)\n",
    "print(DB_PATH)\n",
    "df = pd.read_sql(\"SELECT * FROM city_tier_mapped\", conn)\n",
    "conn.close()\n",
    "\n",
    "print(\"📊 Table Shape in Database:\", df.shape)"
   ]
  },
  {
   "cell_type": "code",
   "execution_count": 15,
   "id": "92542826-d55d-403c-809a-a5e8069e1f7e",
   "metadata": {},
   "outputs": [
    {
     "name": "stdout",
     "output_type": "stream",
     "text": [
      "📊 Table Shape in Database: (100, 45)\n"
     ]
    }
   ],
   "source": [
    "conn = sqlite3.connect(DB_PATH + UNIT_TEST_DB_FILE_NAME)\n",
    "\n",
    "df = pd.read_sql(\"SELECT * FROM loaded_data_test_case\", conn)\n",
    "conn.close()\n",
    "\n",
    "print(\"📊 Table Shape in Database:\", df.shape)"
   ]
  },
  {
   "cell_type": "code",
   "execution_count": null,
   "id": "d0acd0dd-88c6-4fa5-9b0f-1b8f1cf9b488",
   "metadata": {},
   "outputs": [],
   "source": []
  }
 ],
 "metadata": {
  "kernelspec": {
   "display_name": "Python 3 (ipykernel)",
   "language": "python",
   "name": "python3"
  },
  "language_info": {
   "codemirror_mode": {
    "name": "ipython",
    "version": 3
   },
   "file_extension": ".py",
   "mimetype": "text/x-python",
   "name": "python",
   "nbconvert_exporter": "python",
   "pygments_lexer": "ipython3",
   "version": "3.8.12"
  }
 },
 "nbformat": 4,
 "nbformat_minor": 5
}
