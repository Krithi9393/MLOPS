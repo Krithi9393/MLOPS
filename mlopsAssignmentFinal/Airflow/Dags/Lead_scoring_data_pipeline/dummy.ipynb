{
 "cells": [
  {
   "cell_type": "code",
   "execution_count": 1,
   "id": "bd3e22bc-5504-45ea-9e64-e39ff1fb1782",
   "metadata": {},
   "outputs": [],
   "source": [
    "#!pip install --upgrade pandas ydata-profiling"
   ]
  },
  {
   "cell_type": "code",
   "execution_count": 2,
   "id": "09488f8c-f10a-4adb-bea0-d32e3aa1464c",
   "metadata": {},
   "outputs": [],
   "source": [
    "import warnings\n",
    "warnings.filterwarnings(\"ignore\")"
   ]
  },
  {
   "cell_type": "code",
   "execution_count": 3,
   "id": "5d799060-e0ef-4ea8-a16d-35a6ec1d83f9",
   "metadata": {},
   "outputs": [
    {
     "data": {
      "text/html": [
       "\n",
       "            <div>\n",
       "                <ins><a href=\"https://ydata.ai/register\">Upgrade to ydata-sdk</a></ins>\n",
       "                <p>\n",
       "                    Improve your data and profiling with ydata-sdk, featuring data quality scoring, redundancy detection, outlier identification, text validation, and synthetic data generation.\n",
       "                </p>\n",
       "            </div>\n",
       "            "
      ],
      "text/plain": [
       "<IPython.core.display.HTML object>"
      ]
     },
     "metadata": {},
     "output_type": "display_data"
    }
   ],
   "source": [
    "import numpy as np\n",
    "import pandas as pd\n",
    "from pandas_profiling import ProfileReport\n",
    "import utils\n",
    "from constants import *\n",
    "import data_validation_checks  \n",
    "from data_validation_checks import *"
   ]
  },
  {
   "cell_type": "code",
   "execution_count": 4,
   "id": "1d9daace-b960-4d50-8a4c-bc2ecaed1185",
   "metadata": {},
   "outputs": [],
   "source": [
    "#print(\"Current Working Directory:\", os.getcwd())"
   ]
  },
  {
   "cell_type": "code",
   "execution_count": 5,
   "id": "3af65b50-e3b0-4d6a-980f-dbdfd7f4c610",
   "metadata": {},
   "outputs": [
    {
     "name": "stdout",
     "output_type": "stream",
     "text": [
      "/Users/krishnaganesh/Downloads/PythonAIML/Assignment/Airflow/Dags/Lead_scoring_data_pipeline/database/lead_scoring_data_cleaning.db\n"
     ]
    }
   ],
   "source": [
    "print(DB_PATH+DB_FILE_NAME)"
   ]
  },
  {
   "cell_type": "code",
   "execution_count": 6,
   "id": "f8fa645b-c246-4a5c-a8c1-14763905fa06",
   "metadata": {},
   "outputs": [
    {
     "name": "stdout",
     "output_type": "stream",
     "text": [
      "Does the directory exist? False\n",
      "Is it a directory? False\n"
     ]
    }
   ],
   "source": [
    "import os\n",
    "db_path = \"/home/Assignment/01_data_pipeline/scripts/database/\"\n",
    "print(\"Does the directory exist?\", os.path.exists(db_path))\n",
    "print(\"Is it a directory?\", os.path.isdir(db_path))"
   ]
  },
  {
   "cell_type": "code",
   "execution_count": 7,
   "id": "225db4f4-08ad-4ed0-8a53-cc7ca36d90cb",
   "metadata": {},
   "outputs": [
    {
     "name": "stdout",
     "output_type": "stream",
     "text": [
      "Creating Database\n",
      "New DB Created\n"
     ]
    },
    {
     "data": {
      "text/plain": [
       "'DB Created'"
      ]
     },
     "execution_count": 7,
     "metadata": {},
     "output_type": "execute_result"
    }
   ],
   "source": [
    "build_dbs()"
   ]
  },
  {
   "cell_type": "code",
   "execution_count": 8,
   "id": "890eb7e0-6b68-4322-8491-b026046e0bf9",
   "metadata": {},
   "outputs": [
    {
     "name": "stdout",
     "output_type": "stream",
     "text": [
      "Raw datas schema is in line with the schema present in schema.py\n"
     ]
    }
   ],
   "source": [
    "raw_data_schema_check()"
   ]
  },
  {
   "cell_type": "code",
   "execution_count": 9,
   "id": "b9892b6b-1add-4d71-8b71-9de0948c3f19",
   "metadata": {},
   "outputs": [],
   "source": [
    "load_data_into_db()"
   ]
  },
  {
   "cell_type": "code",
   "execution_count": 10,
   "id": "e2dc3af0-d8f0-4387-907c-f05f758a967a",
   "metadata": {},
   "outputs": [],
   "source": [
    "map_city_tier()"
   ]
  },
  {
   "cell_type": "code",
   "execution_count": 11,
   "id": "e0d0548c-3709-4d26-8476-622cb033b3b2",
   "metadata": {},
   "outputs": [],
   "source": [
    "map_categorical_vars()"
   ]
  },
  {
   "cell_type": "code",
   "execution_count": 12,
   "id": "7e5aa9ce-b27a-4952-a8c8-78e8c5d5fb44",
   "metadata": {},
   "outputs": [],
   "source": [
    "interactions_mapping()"
   ]
  },
  {
   "cell_type": "code",
   "execution_count": 13,
   "id": "bb04db7b-34cc-4ec6-ae87-b96849b24ad4",
   "metadata": {},
   "outputs": [
    {
     "name": "stdout",
     "output_type": "stream",
     "text": [
      "Models input schema is in line with the schema present in schema.py\n"
     ]
    }
   ],
   "source": [
    "model_input_schema_check()"
   ]
  },
  {
   "cell_type": "code",
   "execution_count": 14,
   "id": "964ff08c-53f5-4a77-8820-32c76a81ab6b",
   "metadata": {},
   "outputs": [
    {
     "name": "stdout",
     "output_type": "stream",
     "text": [
      "   city_tier first_platform_c first_utm_medium_c first_utm_source_c  \\\n",
      "0        1.0           Level0            Level11             Level2   \n",
      "1        2.0           Level3             Level0             others   \n",
      "2        1.0           Level3             Level0             Level0   \n",
      "3        1.0           Level1             Level3             others   \n",
      "4        1.0           Level3             Level0             Level0   \n",
      "\n",
      "   total_leads_droppped  referred_lead  app_complete_flag  \n",
      "0                   1.0            0.0                  1  \n",
      "1                   1.0            0.0                  1  \n",
      "2                   1.0            0.0                  1  \n",
      "3                   2.0            0.0                  0  \n",
      "4                   1.0            0.0                  0  \n"
     ]
    }
   ],
   "source": [
    "import pandas as pd\n",
    "import sqlite3\n",
    "\n",
    "connection = sqlite3.connect(DB_PATH + DB_FILE_NAME)\n",
    "\n",
    "df = pd.read_sql_query(\"SELECT * FROM model_input LIMIT 5;\", connection)\n",
    "print(df)\n",
    "\n",
    "connection.close()"
   ]
  },
  {
   "cell_type": "code",
   "execution_count": 15,
   "id": "dd438a3d-6769-449f-bfb4-cf474adb74dd",
   "metadata": {},
   "outputs": [
    {
     "name": "stdout",
     "output_type": "stream",
     "text": [
      "📊 Table Shape in Database: (240000, 46)\n"
     ]
    }
   ],
   "source": [
    "import sqlite3\n",
    "import pandas as pd\n",
    "\n",
    "conn = sqlite3.connect(DB_PATH + DB_FILE_NAME)\n",
    "df = pd.read_sql(\"SELECT * FROM loaded_data\", conn)\n",
    "conn.close()\n",
    "\n",
    "print(\"📊 Table Shape in Database:\", df.shape)"
   ]
  },
  {
   "cell_type": "code",
   "execution_count": null,
   "id": "e780112b-d7ee-438b-b48a-2e3e2d5c1afe",
   "metadata": {},
   "outputs": [],
   "source": []
  }
 ],
 "metadata": {
  "kernelspec": {
   "display_name": "Python 3 (ipykernel)",
   "language": "python",
   "name": "python3"
  },
  "language_info": {
   "codemirror_mode": {
    "name": "ipython",
    "version": 3
   },
   "file_extension": ".py",
   "mimetype": "text/x-python",
   "name": "python",
   "nbconvert_exporter": "python",
   "pygments_lexer": "ipython3",
   "version": "3.11.7"
  }
 },
 "nbformat": 4,
 "nbformat_minor": 5
}
